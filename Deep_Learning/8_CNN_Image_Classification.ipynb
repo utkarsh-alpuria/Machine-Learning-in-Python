{
  "cells": [
    {
      "cell_type": "markdown",
      "metadata": {
        "id": "_SgkVGmpU6-8"
      },
      "source": [
        "## CNN Image Classification\n",
        "- We are using CIFAR10 dataset\n",
        "- Dataset have 60000 colour images (32x32) with 10 classes with 6000 images per class\n",
        "- Classes are(airplane, automobile, bird, cat, deer, dog, frog, horse, ship, truck)\n",
        "- 50000 train and 10000 test images\n",
        "- The test batch contains exactly 1000 randomly selected images from each class.\n",
        "- The training batches contain the remaining images in random order, but some training batches may contain more images from class than another. Between them, the training batches contain exactly 5000 images from each class.\n"
      ]
    },
    {
      "cell_type": "code",
      "execution_count": null,
      "metadata": {
        "id": "0NnUejHuU6_F"
      },
      "outputs": [],
      "source": [
        "import tensorflow as tf\n",
        "from tensorflow.keras import datasets, layers, models\n",
        "from tensorflow import keras\n",
        "import matplotlib.pyplot as plt\n",
        "import numpy as np"
      ]
    },
    {
      "cell_type": "markdown",
      "source": [
        "#### Data Loading"
      ],
      "metadata": {
        "id": "6xxVf9OIh3B1"
      }
    },
    {
      "cell_type": "code",
      "execution_count": null,
      "metadata": {
        "colab": {
          "base_uri": "https://localhost:8080/"
        },
        "id": "4ugT96eFU6_J",
        "outputId": "29b9327e-afaf-450b-c9ad-bb3cd59cfb26"
      },
      "outputs": [
        {
          "output_type": "stream",
          "name": "stdout",
          "text": [
            "Downloading data from https://www.cs.toronto.edu/~kriz/cifar-10-python.tar.gz\n",
            "170498071/170498071 [==============================] - 2s 0us/step\n"
          ]
        },
        {
          "output_type": "execute_result",
          "data": {
            "text/plain": [
              "(50000, 32, 32, 3)"
            ]
          },
          "metadata": {},
          "execution_count": 2
        }
      ],
      "source": [
        "(X_train, y_train), (X_test, y_test) = datasets.cifar10.load_data()\n",
        "X_train.shape"
      ]
    },
    {
      "cell_type": "code",
      "source": [
        "y_train.shape # 50000 1 dimenshonal arrays"
      ],
      "metadata": {
        "colab": {
          "base_uri": "https://localhost:8080/"
        },
        "id": "Q11OD_wOVQ1V",
        "outputId": "745934d2-aaf0-4b30-b75f-60e47cad295f"
      },
      "execution_count": null,
      "outputs": [
        {
          "output_type": "execute_result",
          "data": {
            "text/plain": [
              "(50000, 1)"
            ]
          },
          "metadata": {},
          "execution_count": 15
        }
      ]
    },
    {
      "cell_type": "code",
      "source": [
        "y_train[:5]"
      ],
      "metadata": {
        "colab": {
          "base_uri": "https://localhost:8080/"
        },
        "id": "xmLf3Y6pan8N",
        "outputId": "0d3a3877-2242-4113-9232-fc843fafc4ae"
      },
      "execution_count": null,
      "outputs": [
        {
          "output_type": "execute_result",
          "data": {
            "text/plain": [
              "array([[6],\n",
              "       [9],\n",
              "       [9],\n",
              "       [4],\n",
              "       [1]], dtype=uint8)"
            ]
          },
          "metadata": {},
          "execution_count": 16
        }
      ]
    },
    {
      "cell_type": "code",
      "source": [
        "y_train = y_train.reshape(-1,) # flattened y_train to an array with 50000 values(between 0 to 9)\n",
        "y_train[:5]"
      ],
      "metadata": {
        "colab": {
          "base_uri": "https://localhost:8080/"
        },
        "id": "xfBl96gTbK-m",
        "outputId": "86a39d34-744d-4318-c115-fa7ca90ba23e"
      },
      "execution_count": null,
      "outputs": [
        {
          "output_type": "execute_result",
          "data": {
            "text/plain": [
              "array([6, 9, 9, 4, 1], dtype=uint8)"
            ]
          },
          "metadata": {},
          "execution_count": 18
        }
      ]
    },
    {
      "cell_type": "code",
      "source": [
        "classes = [\"airplane\", \"automobile\", \"bird\", \"cat\", \"deer\", \"dog\", \"frog\", \"horse\", \"ship\", \"truck\"]"
      ],
      "metadata": {
        "id": "kPrZHrRccaaU"
      },
      "execution_count": null,
      "outputs": []
    },
    {
      "cell_type": "code",
      "source": [
        "def plot_sample(X, y, index):\n",
        "    plt.figure(figsize=(15,2))\n",
        "    plt.imshow(X[index])\n",
        "    plt.xlabel(classes[y[index]])\n",
        "\n",
        "plot_sample(X_train, y_train , 0) # frog image"
      ],
      "metadata": {
        "colab": {
          "base_uri": "https://localhost:8080/",
          "height": 237
        },
        "id": "3S6myv3wVamt",
        "outputId": "2763e72f-aca8-400e-fd9b-3d6e56280990"
      },
      "execution_count": 48,
      "outputs": [
        {
          "output_type": "display_data",
          "data": {
            "text/plain": [
              "<Figure size 1500x200 with 1 Axes>"
            ],
            "image/png": "[encoded data removed]"
          },
          "metadata": {}
        }
      ]
    },
    {
      "cell_type": "code",
      "source": [
        "plot_sample(X_train, y_train, 1) # truck image"
      ],
      "metadata": {
        "colab": {
          "base_uri": "https://localhost:8080/",
          "height": 237
        },
        "id": "CW3qMexQXLeu",
        "outputId": "fbf802d9-0a36-42dc-fd86-976b0252af0d"
      },
      "execution_count": null,
      "outputs": [
        {
          "output_type": "display_data",
          "data": {
            "text/plain": [
              "<Figure size 1500x200 with 1 Axes>"
            ],
            "image/png": "[encoded data removed]"
          },
          "metadata": {}
        }
      ]
    },
    {
      "cell_type": "markdown",
      "source": [
        "#### Normalization\n",
        "- we have rgb values ranging from 0 to 255\n",
        "- we devide all with 255 to make it between 0 to 1"
      ],
      "metadata": {
        "id": "Y9CNELtshRCU"
      }
    },
    {
      "cell_type": "code",
      "source": [
        "X_train = X_train / 255\n",
        "X_test = X_test / 255"
      ],
      "metadata": {
        "id": "KU3tWPTBYoqm"
      },
      "execution_count": null,
      "outputs": []
    },
    {
      "cell_type": "markdown",
      "source": [
        "#### First let's try ANN"
      ],
      "metadata": {
        "id": "hX25YRw9iVQN"
      }
    },
    {
      "cell_type": "code",
      "source": [
        "ann = keras.Sequential([\n",
        "    keras.layers.Flatten(input_shape=(32,32,3)),\n",
        "    keras.layers.Dense(3000, activation=\"relu\"),\n",
        "    keras.layers.Dense(1000, activation=\"relu\"),\n",
        "    keras.layers.Dense(10, activation=\"sigmoid\"),\n",
        "])\n",
        "\n",
        "ann.compile(optimizer=\"SGD\",\n",
        "               loss=\"sparse_categorical_crossentropy\",\n",
        "               metrics=[\"accuracy\"])\n",
        "\n",
        "ann.fit(X_train, y_train, epochs=5)"
      ],
      "metadata": {
        "colab": {
          "base_uri": "https://localhost:8080/"
        },
        "id": "Ctv76_ZGiasF",
        "outputId": "aafaccfb-bfe9-413f-80f1-136f98c2a301"
      },
      "execution_count": null,
      "outputs": [
        {
          "output_type": "stream",
          "name": "stdout",
          "text": [
            "Epoch 1/5\n",
            "1563/1563 [==============================] - 151s 95ms/step - loss: 1.8139 - accuracy: 0.3532\n",
            "Epoch 2/5\n",
            "1563/1563 [==============================] - 152s 97ms/step - loss: 1.6243 - accuracy: 0.4263\n",
            "Epoch 3/5\n",
            "1563/1563 [==============================] - 148s 95ms/step - loss: 1.5410 - accuracy: 0.4591\n",
            "Epoch 4/5\n",
            "1563/1563 [==============================] - 147s 94ms/step - loss: 1.4809 - accuracy: 0.4800\n",
            "Epoch 5/5\n",
            "1563/1563 [==============================] - 149s 95ms/step - loss: 1.4318 - accuracy: 0.4979\n"
          ]
        },
        {
          "output_type": "execute_result",
          "data": {
            "text/plain": [
              "<keras.src.callbacks.History at 0x7ca8b78cab90>"
            ]
          },
          "metadata": {},
          "execution_count": 28
        }
      ]
    },
    {
      "cell_type": "code",
      "source": [
        "ann.evaluate(X_test, y_test)"
      ],
      "metadata": {
        "colab": {
          "base_uri": "https://localhost:8080/"
        },
        "id": "1JsjCm05nIhE",
        "outputId": "289aa9ab-7c48-48cf-cec2-beba0684bcf8"
      },
      "execution_count": null,
      "outputs": [
        {
          "output_type": "stream",
          "name": "stdout",
          "text": [
            "313/313 [==============================] - 8s 26ms/step - loss: 1.4427 - accuracy: 0.4855\n"
          ]
        },
        {
          "output_type": "execute_result",
          "data": {
            "text/plain": [
              "[1.442743182182312, 0.4855000078678131]"
            ]
          },
          "metadata": {},
          "execution_count": 29
        }
      ]
    },
    {
      "cell_type": "code",
      "source": [
        "from sklearn.metrics import confusion_matrix, classification_report\n",
        "y_pred = ann.predict(X_test)\n",
        "y_pred_classes = [np.argmax(element) for element in y_pred]\n",
        "\n",
        "print(\"Classification Report :\\n\",classification_report(y_test, y_pred_classes))\n"
      ],
      "metadata": {
        "colab": {
          "base_uri": "https://localhost:8080/"
        },
        "id": "YeWp2TGHnj8-",
        "outputId": "e718b3dd-54f4-4c57-a88e-a87d2ab661b9"
      },
      "execution_count": null,
      "outputs": [
        {
          "output_type": "stream",
          "name": "stdout",
          "text": [
            "313/313 [==============================] - 10s 31ms/step\n",
            "Classification Report :\n",
            "               precision    recall  f1-score   support\n",
            "\n",
            "           0       0.61      0.46      0.52      1000\n",
            "           1       0.71      0.47      0.56      1000\n",
            "           2       0.39      0.35      0.37      1000\n",
            "           3       0.32      0.47      0.38      1000\n",
            "           4       0.38      0.49      0.43      1000\n",
            "           5       0.58      0.16      0.25      1000\n",
            "           6       0.55      0.53      0.54      1000\n",
            "           7       0.52      0.60      0.55      1000\n",
            "           8       0.49      0.76      0.60      1000\n",
            "           9       0.55      0.58      0.57      1000\n",
            "\n",
            "    accuracy                           0.49     10000\n",
            "   macro avg       0.51      0.49      0.48     10000\n",
            "weighted avg       0.51      0.49      0.48     10000\n",
            "\n"
          ]
        }
      ]
    },
    {
      "cell_type": "markdown",
      "source": [
        "- As we can see ANN accuracy for image classification is not very good"
      ],
      "metadata": {
        "id": "z8xUdo5enV0Y"
      }
    },
    {
      "cell_type": "markdown",
      "source": [
        "#### CNN MODEL\n",
        "- we will keep our dense networl.\n",
        "- we just add pooling and convolution layers in front of dense network"
      ],
      "metadata": {
        "id": "oeA-d5fbo_sm"
      }
    },
    {
      "cell_type": "code",
      "source": [
        "cnn = keras.Sequential([\n",
        "    # cnn\n",
        "    layers.Conv2D(input_shape=(32,32,3), filters=32, kernel_size=(3,3), activation= \"relu\"),\n",
        "    layers.MaxPooling2D((2,2)),\n",
        "\n",
        "    layers.Conv2D(input_shape=(32,32,3), filters=32, kernel_size=(3,3), activation= \"relu\"),\n",
        "    layers.MaxPooling2D((2,2)),\n",
        "\n",
        "    # dense\n",
        "    keras.layers.Flatten(),\n",
        "    keras.layers.Dense(64, activation=\"relu\"),\n",
        "    keras.layers.Dense(10, activation=\"softmax\"),\n",
        "])\n",
        "\n",
        "# Conv2D\n",
        "    # filters -> we can randomly select number of filters\n",
        "    # kernel_size -> shape and size of filter matrix\n",
        "# MaxPooling2D\n",
        "    # (2,2) -> take max value from the matrix of 2x2\n",
        "# we used 2 conv and 2 pooling layers\n",
        "# number of conv and pooling layers to be used can be dedfined by trial and error"
      ],
      "metadata": {
        "id": "_srga6f9nT85"
      },
      "execution_count": 39,
      "outputs": []
    },
    {
      "cell_type": "code",
      "source": [
        "cnn.compile(optimizer=\"adam\",\n",
        "               loss=\"sparse_categorical_crossentropy\",\n",
        "               metrics=[\"accuracy\"])\n",
        "\n",
        "cnn.fit(X_train, y_train, epochs=10)"
      ],
      "metadata": {
        "colab": {
          "base_uri": "https://localhost:8080/"
        },
        "id": "GrE7hE0n0uEF",
        "outputId": "5f1bf0ab-0730-4f06-9773-b7ba734715c4"
      },
      "execution_count": 40,
      "outputs": [
        {
          "output_type": "stream",
          "name": "stdout",
          "text": [
            "Epoch 1/10\n",
            "1563/1563 [==============================] - 66s 41ms/step - loss: 1.5263 - accuracy: 0.4506\n",
            "Epoch 2/10\n",
            "1563/1563 [==============================] - 52s 33ms/step - loss: 1.1863 - accuracy: 0.5831\n",
            "Epoch 3/10\n",
            "1563/1563 [==============================] - 53s 34ms/step - loss: 1.0670 - accuracy: 0.6259\n",
            "Epoch 4/10\n",
            "1563/1563 [==============================] - 53s 34ms/step - loss: 0.9946 - accuracy: 0.6548\n",
            "Epoch 5/10\n",
            "1563/1563 [==============================] - 50s 32ms/step - loss: 0.9372 - accuracy: 0.6741\n",
            "Epoch 6/10\n",
            "1563/1563 [==============================] - 51s 33ms/step - loss: 0.8918 - accuracy: 0.6901\n",
            "Epoch 7/10\n",
            "1563/1563 [==============================] - 50s 32ms/step - loss: 0.8561 - accuracy: 0.7040\n",
            "Epoch 8/10\n",
            "1563/1563 [==============================] - 50s 32ms/step - loss: 0.8210 - accuracy: 0.7130\n",
            "Epoch 9/10\n",
            "1563/1563 [==============================] - 51s 33ms/step - loss: 0.7885 - accuracy: 0.7260\n",
            "Epoch 10/10\n",
            "1563/1563 [==============================] - 49s 31ms/step - loss: 0.7604 - accuracy: 0.7355\n"
          ]
        },
        {
          "output_type": "execute_result",
          "data": {
            "text/plain": [
              "<keras.src.callbacks.History at 0x7ca84ecc5240>"
            ]
          },
          "metadata": {},
          "execution_count": 40
        }
      ]
    },
    {
      "cell_type": "code",
      "source": [
        "cnn.evaluate(X_test, y_test)"
      ],
      "metadata": {
        "colab": {
          "base_uri": "https://localhost:8080/"
        },
        "id": "l0QdRtb0213S",
        "outputId": "6dce1a14-330a-4089-d611-c28b1f8a32c4"
      },
      "execution_count": 41,
      "outputs": [
        {
          "output_type": "stream",
          "name": "stdout",
          "text": [
            "313/313 [==============================] - 5s 14ms/step - loss: 0.9369 - accuracy: 0.6822\n"
          ]
        },
        {
          "output_type": "execute_result",
          "data": {
            "text/plain": [
              "[0.9369142651557922, 0.682200014591217]"
            ]
          },
          "metadata": {},
          "execution_count": 41
        }
      ]
    },
    {
      "cell_type": "markdown",
      "source": [
        "- As we can se te accuracy is improved in CNN\n",
        "- even at 5 epochs the accuracy is around 70% as compared to ANN 5 epochs accuracy of 48%\n",
        "- it will increse more if we increase the epochs\n",
        "- Also the training was fast here"
      ],
      "metadata": {
        "id": "uWviriM020i8"
      }
    },
    {
      "cell_type": "code",
      "source": [
        "y_test = y_test.reshape(-1,) # flattened y_test to an array with 50000 values(between 0 to 9)\n",
        "y_test[:5]"
      ],
      "metadata": {
        "colab": {
          "base_uri": "https://localhost:8080/"
        },
        "id": "O5FTqJS73hJk",
        "outputId": "8f26ba72-4bdb-42fd-c8d0-9015359188d2"
      },
      "execution_count": 42,
      "outputs": [
        {
          "output_type": "execute_result",
          "data": {
            "text/plain": [
              "array([3, 8, 8, 0, 6], dtype=uint8)"
            ]
          },
          "metadata": {},
          "execution_count": 42
        }
      ]
    },
    {
      "cell_type": "code",
      "source": [
        "plot_sample(X_test, y_test, 1)"
      ],
      "metadata": {
        "colab": {
          "base_uri": "https://localhost:8080/",
          "height": 237
        },
        "id": "msZpeNFf4H2H",
        "outputId": "6348bdd1-691d-42f9-825c-94b7cf8baada"
      },
      "execution_count": 49,
      "outputs": [
        {
          "output_type": "display_data",
          "data": {
            "text/plain": [
              "<Figure size 1500x200 with 1 Axes>"
            ],
            "image/png": "[encoded data removed]"
          },
          "metadata": {}
        }
      ]
    },
    {
      "cell_type": "code",
      "source": [
        "y_pred = cnn.predict(X_test)\n",
        "y_pred[:5]"
      ],
      "metadata": {
        "colab": {
          "base_uri": "https://localhost:8080/"
        },
        "id": "RfZOB89f47QU",
        "outputId": "966cd25f-246b-463c-b833-846f36ea2c15"
      },
      "execution_count": 50,
      "outputs": [
        {
          "output_type": "stream",
          "name": "stdout",
          "text": [
            "313/313 [==============================] - 6s 19ms/step\n"
          ]
        },
        {
          "output_type": "execute_result",
          "data": {
            "text/plain": [
              "array([[1.36830388e-02, 4.78064067e-05, 1.05569944e-01, 7.88208783e-01,\n",
              "        3.73644347e-04, 4.20616977e-02, 3.71473581e-02, 2.15705208e-04,\n",
              "        1.26031153e-02, 8.88624782e-05],\n",
              "       [5.17824516e-02, 1.64661761e-02, 2.74046033e-06, 2.96237118e-07,\n",
              "        5.38399014e-09, 1.14007492e-09, 8.24922264e-09, 4.16472856e-09,\n",
              "        9.31289315e-01, 4.59028961e-04],\n",
              "       [2.27346092e-01, 4.51480538e-01, 4.97760437e-03, 9.58490185e-04,\n",
              "        3.81388352e-04, 7.96357781e-05, 8.47014526e-05, 5.69774187e-04,\n",
              "        3.10301512e-01, 3.82028148e-03],\n",
              "       [7.78587639e-01, 3.29385214e-02, 6.62563229e-03, 1.14864954e-04,\n",
              "        2.88262125e-03, 2.13560568e-07, 8.94643308e-05, 2.71986210e-05,\n",
              "        1.78655863e-01, 7.80509363e-05],\n",
              "       [3.32922682e-05, 4.45225378e-05, 2.79821339e-03, 1.96857490e-02,\n",
              "        1.34340942e-01, 2.24233209e-03, 8.40788424e-01, 7.09109099e-06,\n",
              "        4.56125817e-05, 1.38275891e-05]], dtype=float32)"
            ]
          },
          "metadata": {},
          "execution_count": 50
        }
      ]
    },
    {
      "cell_type": "code",
      "source": [
        "y_classes = [np.argmax(element) for element in y_pred]\n",
        "y_classes[:5]"
      ],
      "metadata": {
        "colab": {
          "base_uri": "https://localhost:8080/"
        },
        "id": "gpnaCkJ05O_X",
        "outputId": "603d9efe-505d-4252-fce1-e6c1ab7e8a6b"
      },
      "execution_count": 57,
      "outputs": [
        {
          "output_type": "execute_result",
          "data": {
            "text/plain": [
              "[3, 8, 1, 0, 6]"
            ]
          },
          "metadata": {},
          "execution_count": 57
        }
      ]
    },
    {
      "cell_type": "code",
      "source": [
        "y_test[:5]"
      ],
      "metadata": {
        "colab": {
          "base_uri": "https://localhost:8080/"
        },
        "id": "dBN60Ebn8vZG",
        "outputId": "4169d18e-dd50-41cd-d945-a3954c3b4c0d"
      },
      "execution_count": 58,
      "outputs": [
        {
          "output_type": "execute_result",
          "data": {
            "text/plain": [
              "array([3, 8, 8, 0, 6], dtype=uint8)"
            ]
          },
          "metadata": {},
          "execution_count": 58
        }
      ]
    },
    {
      "cell_type": "code",
      "source": [
        "print(\"Classification Report :\\n\",classification_report(y_test, y_classes))"
      ],
      "metadata": {
        "colab": {
          "base_uri": "https://localhost:8080/"
        },
        "id": "1KCGiBTv9PKo",
        "outputId": "ec77702a-0051-419b-a96f-ced16ecf627b"
      },
      "execution_count": 59,
      "outputs": [
        {
          "output_type": "stream",
          "name": "stdout",
          "text": [
            "Classification Report :\n",
            "               precision    recall  f1-score   support\n",
            "\n",
            "           0       0.61      0.80      0.69      1000\n",
            "           1       0.78      0.83      0.80      1000\n",
            "           2       0.56      0.54      0.55      1000\n",
            "           3       0.53      0.46      0.49      1000\n",
            "           4       0.63      0.67      0.65      1000\n",
            "           5       0.69      0.49      0.57      1000\n",
            "           6       0.72      0.82      0.77      1000\n",
            "           7       0.77      0.72      0.74      1000\n",
            "           8       0.79      0.75      0.77      1000\n",
            "           9       0.76      0.75      0.75      1000\n",
            "\n",
            "    accuracy                           0.68     10000\n",
            "   macro avg       0.68      0.68      0.68     10000\n",
            "weighted avg       0.68      0.68      0.68     10000\n",
            "\n"
          ]
        }
      ]
    }
  ],
  "metadata": {
    "kernelspec": {
      "display_name": ".ml_algo_py_venv",
      "language": "python",
      "name": "python3"
    },
    "language_info": {
      "codemirror_mode": {
        "name": "ipython",
        "version": 3
      },
      "file_extension": ".py",
      "mimetype": "text/x-python",
      "name": "python",
      "nbconvert_exporter": "python",
      "pygments_lexer": "ipython3",
      "version": "3.10.7"
    },
    "colab": {
      "provenance": []
    }
  },
  "nbformat": 4,
  "nbformat_minor": 0
}