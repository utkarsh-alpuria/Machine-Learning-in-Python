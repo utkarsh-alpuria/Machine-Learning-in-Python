{
 "cells": [
  {
   "cell_type": "code",
   "execution_count": null,
   "metadata": {},
   "outputs": [],
   "source": []
  },
  {
   "cell_type": "markdown",
   "metadata": {},
   "source": [
    "### NumPy ###\n",
    "\n",
    "- Scientific computing library in python\n",
    "- Provides multidimensional array object, various derived objects(such as masked arrays amd matrices), and an assortment of routines for fast operations on arrays, including mahematical, logical, shape, sorting, I/O, discrete Fourier transforms, basic linear algebra, basic statistical operations, random simulation and much more.\n",
    "- at the core of the NumPy pakage, is the ndarray object.\n",
    "- Python built in sequences are slow data type, numpy array are C array with python wraper."
   ]
  },
  {
   "cell_type": "markdown",
   "metadata": {},
   "source": [
    "#### Creating Numpy Array ####"
   ]
  },
  {
   "cell_type": "code",
   "execution_count": 2,
   "metadata": {},
   "outputs": [
    {
     "name": "stdout",
     "output_type": "stream",
     "text": [
      "[1 2 3]\n",
      "<class 'numpy.ndarray'>\n"
     ]
    }
   ],
   "source": [
    "import numpy as np\n",
    "\n",
    "# 1D numpy array (vector)\n",
    "a = np.array([1,2,3])\n",
    "print(a)\n",
    "print(type(a))"
   ]
  },
  {
   "cell_type": "code",
   "execution_count": 3,
   "metadata": {},
   "outputs": [
    {
     "name": "stdout",
     "output_type": "stream",
     "text": [
      "[[1 2 3]\n",
      " [4 5 6]]\n"
     ]
    }
   ],
   "source": [
    "# 2D numpy array (matrix)\n",
    "b = np.array([[1,2,3],[4,5,6]])\n",
    "print(b)"
   ]
  },
  {
   "cell_type": "code",
   "execution_count": 4,
   "metadata": {},
   "outputs": [
    {
     "name": "stdout",
     "output_type": "stream",
     "text": [
      "[[[1 2]\n",
      "  [3 4]]\n",
      "\n",
      " [[4 5]\n",
      "  [6 7]]]\n"
     ]
    }
   ],
   "source": [
    "# 3D numpy array (tensor)\n",
    "c = np.array([[[1,2],[3,4]],[[4,5],[6,7]]])\n",
    "print(c)"
   ]
  },
  {
   "cell_type": "code",
   "execution_count": 5,
   "metadata": {},
   "outputs": [
    {
     "name": "stdout",
     "output_type": "stream",
     "text": [
      "[1. 2. 3.]\n",
      "[ True  True  True]\n",
      "[1.+0.j 2.+0.j 3.+0.j]\n"
     ]
    }
   ],
   "source": [
    "# dtype\n",
    "d = np.array([1,2,3], dtype=float)\n",
    "print(d)\n",
    "e = np.array([1,2,3], dtype=bool)\n",
    "print(e)\n",
    "f = np.array([1,2,3], dtype=complex)\n",
    "print(f)"
   ]
  },
  {
   "cell_type": "code",
   "execution_count": 6,
   "metadata": {},
   "outputs": [
    {
     "data": {
      "text/plain": [
       "array([ 1,  2,  3,  4,  5,  6,  7,  8,  9, 10])"
      ]
     },
     "execution_count": 6,
     "metadata": {},
     "output_type": "execute_result"
    }
   ],
   "source": [
    "# np.arange\n",
    "# used for creating arrays like range in python\n",
    "np.arange(1, 11)\n",
    "# can also give steps "
   ]
  },
  {
   "cell_type": "code",
   "execution_count": 7,
   "metadata": {},
   "outputs": [
    {
     "data": {
      "text/plain": [
       "array([[ 1,  2],\n",
       "       [ 3,  4],\n",
       "       [ 5,  6],\n",
       "       [ 7,  8],\n",
       "       [ 9, 10]])"
      ]
     },
     "execution_count": 7,
     "metadata": {},
     "output_type": "execute_result"
    }
   ],
   "source": [
    "# with reshape (change dimension of array)\n",
    "# nparray.reshape(row, column)\n",
    "np.arange(1,11).reshape(5,2)"
   ]
  },
  {
   "cell_type": "code",
   "execution_count": 8,
   "metadata": {},
   "outputs": [
    {
     "name": "stdout",
     "output_type": "stream",
     "text": [
      "[[1. 1. 1. 1.]\n",
      " [1. 1. 1. 1.]\n",
      " [1. 1. 1. 1.]]\n",
      "[[0. 0. 0. 0.]\n",
      " [0. 0. 0. 0.]\n",
      " [0. 0. 0. 0.]]\n",
      "[[0.6620238  0.36557493 0.57716168 0.58536797]\n",
      " [0.44890051 0.18126892 0.11167043 0.24933276]\n",
      " [0.66565266 0.2030732  0.77143942 0.90351364]]\n",
      "[[1. 0. 0.]\n",
      " [0. 1. 0.]\n",
      " [0. 0. 1.]]\n"
     ]
    }
   ],
   "source": [
    "# np.ones and np.zeros and np.random and np.identity\n",
    "\n",
    "print(np.ones((3,4))) # np.ones((tuple)) \n",
    "\n",
    "print(np.zeros((3,4))) # np.zeros((tuple))\n",
    "\n",
    "print(np.random.random((3,4)))\n",
    "\n",
    "print(np.identity(3)) # np.identity(int)"
   ]
  },
  {
   "cell_type": "code",
   "execution_count": 9,
   "metadata": {},
   "outputs": [
    {
     "data": {
      "text/plain": [
       "array([-10.        ,  -7.77777778,  -5.55555556,  -3.33333333,\n",
       "        -1.11111111,   1.11111111,   3.33333333,   5.55555556,\n",
       "         7.77777778,  10.        ])"
      ]
     },
     "execution_count": 9,
     "metadata": {},
     "output_type": "execute_result"
    }
   ],
   "source": [
    "# np.linspace (linearly seperable)\n",
    "np.linspace(-10,10,10) # generates an array of 10 values from -10 to 10 with equal spacing"
   ]
  },
  {
   "cell_type": "markdown",
   "metadata": {},
   "source": [
    "#### Array Attributes ####"
   ]
  },
  {
   "cell_type": "code",
   "execution_count": 10,
   "metadata": {},
   "outputs": [
    {
     "name": "stdout",
     "output_type": "stream",
     "text": [
      "vector\n",
      " [0 1 2 3 4 5 6 7 8 9]\n",
      "matrix\n",
      " [[ 0.  1.  2.  3.]\n",
      " [ 4.  5.  6.  7.]\n",
      " [ 8.  9. 10. 11.]]\n",
      "tensor\n",
      " [[[0 1]\n",
      "  [2 3]]\n",
      "\n",
      " [[4 5]\n",
      "  [6 7]]]\n"
     ]
    }
   ],
   "source": [
    "a1 = np.arange(10)\n",
    "a2 = np.arange(12,dtype=float).reshape(3,4)\n",
    "a3 = np.arange(8).reshape(2,2,2)\n",
    "\n",
    "print(\"vector\\n\", a1)\n",
    "print(\"matrix\\n\", a2)\n",
    "print(\"tensor\\n\", a3)"
   ]
  },
  {
   "cell_type": "code",
   "execution_count": 11,
   "metadata": {},
   "outputs": [
    {
     "name": "stdout",
     "output_type": "stream",
     "text": [
      "1\n",
      "2\n",
      "3\n"
     ]
    }
   ],
   "source": [
    "# ndim -> gives the dimension of an array\n",
    "print(a1.ndim) # 1D\n",
    "print(a2.ndim) # 2D\n",
    "print(a3.ndim) # 3D"
   ]
  },
  {
   "cell_type": "code",
   "execution_count": 12,
   "metadata": {},
   "outputs": [
    {
     "name": "stdout",
     "output_type": "stream",
     "text": [
      "(10,)\n",
      "(3, 4)\n",
      "(2, 2, 2)\n"
     ]
    }
   ],
   "source": [
    "# shape\n",
    "print(a1.shape)\n",
    "print(a2.shape)\n",
    "print(a3.shape)"
   ]
  },
  {
   "cell_type": "code",
   "execution_count": 13,
   "metadata": {},
   "outputs": [
    {
     "name": "stdout",
     "output_type": "stream",
     "text": [
      "10\n",
      "12\n",
      "8\n"
     ]
    }
   ],
   "source": [
    "# size -> total no. of elements in array\n",
    "print(a1.size)\n",
    "print(a2.size)\n",
    "print(a3.size)"
   ]
  },
  {
   "cell_type": "code",
   "execution_count": 16,
   "metadata": {},
   "outputs": [
    {
     "name": "stdout",
     "output_type": "stream",
     "text": [
      "4\n",
      "8\n",
      "4\n",
      "int32\n",
      "float64\n",
      "int32\n"
     ]
    }
   ],
   "source": [
    "# itemsize -> size of element in array\n",
    "print(a1.itemsize) # items in a1 are int = 4 bytes \n",
    "print(a2.itemsize) # items in a2 are floats = 8 bytes\n",
    "print(a3.itemsize) # items in a3 are int = 4 bytes\n",
    "\n",
    "# dtype -> type of element in array\n",
    "print(a1.dtype)\n",
    "print(a2.dtype)\n",
    "print(a3.dtype)"
   ]
  },
  {
   "cell_type": "markdown",
   "metadata": {},
   "source": [
    "#### Changing Datatype ####"
   ]
  },
  {
   "cell_type": "code",
   "execution_count": 19,
   "metadata": {},
   "outputs": [
    {
     "data": {
      "text/plain": [
       "array([[[0, 1],\n",
       "        [2, 3]],\n",
       "\n",
       "       [[4, 5],\n",
       "        [6, 7]]], dtype=int64)"
      ]
     },
     "execution_count": 19,
     "metadata": {},
     "output_type": "execute_result"
    }
   ],
   "source": [
    "# astype\n",
    "a3.astype(np.int64)\n",
    "\n",
    "# can be used to save space(change float to int when required will save memory)"
   ]
  },
  {
   "cell_type": "markdown",
   "metadata": {},
   "source": [
    "#### Array Operations ####"
   ]
  },
  {
   "cell_type": "code",
   "execution_count": 39,
   "metadata": {},
   "outputs": [
    {
     "name": "stdout",
     "output_type": "stream",
     "text": [
      "a1 =  [[ 0  1  2  3]\n",
      " [ 4  5  6  7]\n",
      " [ 8  9 10 11]]\n",
      "a2 =  [[12 13 14 15]\n",
      " [16 17 18 19]\n",
      " [20 21 22 23]]\n"
     ]
    }
   ],
   "source": [
    "a1 = np.arange(12).reshape(3,4)\n",
    "a2 = np.arange(12,24).reshape(3,4)\n",
    "\n",
    "print(\"a1 = \", a1)\n",
    "print(\"a2 = \", a2)"
   ]
  },
  {
   "cell_type": "code",
   "execution_count": 40,
   "metadata": {},
   "outputs": [
    {
     "name": "stdout",
     "output_type": "stream",
     "text": [
      "[[ 0  2  4  6]\n",
      " [ 8 10 12 14]\n",
      " [16 18 20 22]] \n",
      "\n",
      "[[ 2  3  4  5]\n",
      " [ 6  7  8  9]\n",
      " [10 11 12 13]] \n",
      "\n",
      "[[-2 -1  0  1]\n",
      " [ 2  3  4  5]\n",
      " [ 6  7  8  9]] \n",
      "\n",
      "[[  0   1   4   9]\n",
      " [ 16  25  36  49]\n",
      " [ 64  81 100 121]] \n",
      "\n",
      "[[0.  0.5 1.  1.5]\n",
      " [2.  2.5 3.  3.5]\n",
      " [4.  4.5 5.  5.5]]\n"
     ]
    }
   ],
   "source": [
    "# scalar operations\n",
    "\n",
    "# arthmetic operators\n",
    "print(a1 * 2, \"\\n\") # multipling scalar\n",
    "print(a1 + 2, \"\\n\") # adding scalar\n",
    "print(a1 - 2, \"\\n\") # subtracting scalar\n",
    "print(a1 ** 2, \"\\n\") # to the power of scalar\n",
    "print(a1 / 2) # dividing scalar"
   ]
  },
  {
   "cell_type": "code",
   "execution_count": 41,
   "metadata": {},
   "outputs": [
    {
     "name": "stdout",
     "output_type": "stream",
     "text": [
      "[[ True  True  True  True]\n",
      " [ True  True  True  True]\n",
      " [ True  True  True  True]] \n",
      "\n",
      "[[False False False False]\n",
      " [False False False False]\n",
      " [False False False False]] \n",
      "\n",
      "[[False False False  True]\n",
      " [False False False False]\n",
      " [False False False False]]\n"
     ]
    }
   ],
   "source": [
    "# relational operators\n",
    "print(a2 > 5, \"\\n\") # compare every item\n",
    "print(a2 < 5, \"\\n\") # compare every item\n",
    "print(a2 == 15) # compare every item"
   ]
  },
  {
   "cell_type": "code",
   "execution_count": 42,
   "metadata": {},
   "outputs": [
    {
     "name": "stdout",
     "output_type": "stream",
     "text": [
      "[[12 14 16 18]\n",
      " [20 22 24 26]\n",
      " [28 30 32 34]] \n",
      "\n",
      "[[-12 -12 -12 -12]\n",
      " [-12 -12 -12 -12]\n",
      " [-12 -12 -12 -12]] \n",
      "\n",
      "[[  0  13  28  45]\n",
      " [ 64  85 108 133]\n",
      " [160 189 220 253]] \n",
      "\n",
      "[[0.         0.07692308 0.14285714 0.2       ]\n",
      " [0.25       0.29411765 0.33333333 0.36842105]\n",
      " [0.4        0.42857143 0.45454545 0.47826087]] \n",
      "\n",
      "[[          0           1       16384    14348907]\n",
      " [          0 -1564725563  1159987200   442181591]\n",
      " [          0  1914644777 -1304428544  -122979837]]\n"
     ]
    }
   ],
   "source": [
    "# vector operations \n",
    "\n",
    "# arithmetic operations\n",
    "print(a1 + a2, \"\\n\") # matrix/vector/tensor addition\n",
    "print(a1 - a2, \"\\n\") # matrix/vector/tensor subtraction\n",
    "print(a1 * a2, \"\\n\") # matrix/vector/tensor multiplication\n",
    "print(a1 / a2, \"\\n\") # matrix/vector/tensor division\n",
    "print(a1 ** a2) # matrix/vector/tensor power"
   ]
  },
  {
   "cell_type": "markdown",
   "metadata": {},
   "source": [
    "#### Array Functions ####"
   ]
  },
  {
   "cell_type": "code",
   "execution_count": 44,
   "metadata": {},
   "outputs": [
    {
     "data": {
      "text/plain": [
       "array([[ 8., 78., 67.],\n",
       "       [94., 30., 33.],\n",
       "       [25., 14., 61.]])"
      ]
     },
     "execution_count": 44,
     "metadata": {},
     "output_type": "execute_result"
    }
   ],
   "source": [
    "a1 = np.random.random((3,3))\n",
    "a1 = np.round(a1*100)\n",
    "a1 # 2D array with float from 0 to 100"
   ]
  },
  {
   "cell_type": "code",
   "execution_count": 45,
   "metadata": {},
   "outputs": [
    {
     "name": "stdout",
     "output_type": "stream",
     "text": [
      "94.0\n",
      "8.0\n",
      "410.0\n",
      "83065430448000.0\n"
     ]
    }
   ],
   "source": [
    "# max/min/sum/prod \n",
    "print(np.max(a1))\n",
    "print(np.min(a1))\n",
    "print(np.sum(a1))\n",
    "print(np.prod(a1))"
   ]
  },
  {
   "cell_type": "code",
   "execution_count": 48,
   "metadata": {},
   "outputs": [
    {
     "name": "stdout",
     "output_type": "stream",
     "text": [
      "[94. 78. 67.]\n",
      "[78. 94. 61.]\n"
     ]
    }
   ],
   "source": [
    "# for every row (axis = 0)\n",
    "print(np.max(a1, axis=0)) # returns max of every column\n",
    "\n",
    "# for every row (axis = 1)\n",
    "print(np.max(a1, axis=1)) # returns max of every row"
   ]
  },
  {
   "cell_type": "code",
   "execution_count": 49,
   "metadata": {},
   "outputs": [
    {
     "name": "stdout",
     "output_type": "stream",
     "text": [
      "45.55555555555556\n",
      "33.0\n",
      "28.53111794791828\n",
      "814.0246913580246\n"
     ]
    }
   ],
   "source": [
    "# mean/median/std/var\n",
    "print(np.mean(a1))\n",
    "print(np.median(a1))\n",
    "print(np.std(a1))\n",
    "print(np.var(a1))\n",
    "\n",
    "# can also do for column and row using axis = 0 or 1"
   ]
  },
  {
   "cell_type": "code",
   "execution_count": 57,
   "metadata": {},
   "outputs": [
    {
     "name": "stdout",
     "output_type": "stream",
     "text": [
      "[[ 0.98935825  0.51397846 -0.85551998]\n",
      " [-0.24525199 -0.98803162  0.99991186]\n",
      " [-0.13235175  0.99060736 -0.96611777]]\n",
      "[[2.07944154 4.35670883 4.20469262]\n",
      " [4.54329478 3.40119738 3.49650756]\n",
      " [3.21887582 2.63905733 4.11087386]]\n",
      "[[2.98095799e+03 7.49841700e+33 1.25236317e+29]\n",
      " [6.66317622e+40 1.06864746e+13 2.14643580e+14]\n",
      " [7.20048993e+10 1.20260428e+06 3.10429794e+26]]\n",
      "[[ 8. 78. 67.]\n",
      " [94. 30. 33.]\n",
      " [25. 14. 61.]]\n",
      "[[ 8. 78. 67.]\n",
      " [94. 30. 33.]\n",
      " [25. 14. 61.]]\n",
      "[[ 8. 78. 67.]\n",
      " [94. 30. 33.]\n",
      " [25. 14. 61.]]\n"
     ]
    }
   ],
   "source": [
    "# trigometric functions\n",
    "print(np.sin(a1))\n",
    "\n",
    "# log and exponents\n",
    "print(np.log(a1))\n",
    "print(np.exp(a1))\n",
    "\n",
    "# round/floor/ceil also works\n",
    "print(np.round(a1))\n",
    "print(np.floor(a1))\n",
    "print(np.ceil(a1))"
   ]
  },
  {
   "cell_type": "code",
   "execution_count": 56,
   "metadata": {},
   "outputs": [
    {
     "name": "stdout",
     "output_type": "stream",
     "text": [
      "[[114 120 126]\n",
      " [378 400 422]\n",
      " [642 680 718]]\n"
     ]
    }
   ],
   "source": [
    "# dot product\n",
    "\n",
    "a2 = np.arange(12).reshape(3,4)\n",
    "a3 = np.arange(12,24).reshape(4,3)\n",
    "\n",
    "# dot product is only possible if arrays are(axb) & (bxa) shape\n",
    "print(np.dot(a2, a3))"
   ]
  },
  {
   "cell_type": "markdown",
   "metadata": {},
   "source": [
    "#### Indexing and Slicing ####"
   ]
  },
  {
   "cell_type": "code",
   "execution_count": 97,
   "metadata": {},
   "outputs": [],
   "source": [
    "a1 = np.arange(10)\n",
    "a2 = np.arange(12,dtype=float).reshape(3,4)\n",
    "a3 = np.arange(27).reshape(3,3,3)"
   ]
  },
  {
   "cell_type": "code",
   "execution_count": 60,
   "metadata": {},
   "outputs": [
    {
     "name": "stdout",
     "output_type": "stream",
     "text": [
      "0 4 9\n"
     ]
    }
   ],
   "source": [
    "# indexing\n",
    "\n",
    "print(a1[0], a1[4], a1[-1]) # same as python"
   ]
  },
  {
   "cell_type": "code",
   "execution_count": 66,
   "metadata": {},
   "outputs": [
    {
     "name": "stdout",
     "output_type": "stream",
     "text": [
      "[[ 0.  1.  2.  3.]\n",
      " [ 4.  5.  6.  7.]\n",
      " [ 8.  9. 10. 11.]]\n",
      "6.0 6.0\n",
      "11.0\n"
     ]
    }
   ],
   "source": [
    "print(a2)\n",
    "print(a2[1][2], a2[1,2]) # a2[row][column] or a2[row, column]\n",
    "print(a2[-1,-1]) # negative index works"
   ]
  },
  {
   "cell_type": "code",
   "execution_count": 70,
   "metadata": {},
   "outputs": [
    {
     "name": "stdout",
     "output_type": "stream",
     "text": [
      "[[[0 1]\n",
      "  [2 3]]\n",
      "\n",
      " [[4 5]\n",
      "  [6 7]]]\n",
      "5\n",
      "2\n",
      "7\n"
     ]
    }
   ],
   "source": [
    "print(a3)\n",
    "print(a3[1,0,1]) # -> 5\n",
    "print(a3[0,1,0]) # -> 2\n",
    "print(a3[-1,-1,-1]) # -> 7"
   ]
  },
  {
   "cell_type": "code",
   "execution_count": 74,
   "metadata": {},
   "outputs": [
    {
     "name": "stdout",
     "output_type": "stream",
     "text": [
      "[0 1 2 3 4 5 6 7 8 9]\n",
      "[2 3 4]\n",
      "[2 3 4 5 6 7 8]\n"
     ]
    }
   ],
   "source": [
    "# slicing\n",
    "\n",
    "print(a1) \n",
    "print(a1[2:5]) \n",
    "print(a1[2:-1])"
   ]
  },
  {
   "cell_type": "code",
   "execution_count": 92,
   "metadata": {},
   "outputs": [
    {
     "name": "stdout",
     "output_type": "stream",
     "text": [
      "[[ 0.  1.  2.  3.]\n",
      " [ 4.  5.  6.  7.]\n",
      " [ 8.  9. 10. 11.]] \n",
      "\n",
      "[0. 1. 2. 3.] \n",
      "\n",
      "[ 2.  6. 10.] \n",
      "\n",
      "[[0. 1. 2. 3.]\n",
      " [4. 5. 6. 7.]] \n",
      "\n",
      "[[ 2.  3.]\n",
      " [ 6.  7.]\n",
      " [10. 11.]] \n",
      "OR\n",
      " [[ 2.  3.]\n",
      " [ 6.  7.]\n",
      " [10. 11.]] \n",
      "\n",
      "[[ 5.  6.]\n",
      " [ 9. 10.]] \n",
      "OR\n",
      " [[ 5.  6.]\n",
      " [ 9. 10.]] \n",
      "\n",
      "[[ 0.  3.]\n",
      " [ 8. 11.]] \n",
      "\n",
      "[[ 1.  3.]\n",
      " [ 9. 11.]]\n"
     ]
    }
   ],
   "source": [
    "print(a2, \"\\n\")\n",
    "\n",
    "print(a2[0,:], \"\\n\") # 1st row \n",
    "\n",
    "print(a2[:,2], \"\\n\") # 3rd column\n",
    "\n",
    "print(a2[0:2, :], \"\\n\") # 1st and 2nd row\n",
    "\n",
    "print(a2[:, 2:4], \"\\nOR\\n\", a2[:, 2:], \"\\n\") # 3rd and 4th column\n",
    "\n",
    "print(a2[1:3, 1:3], \"\\nOR\\n\", a2[1:, 1:3], \"\\n\") # 2nd to 3th row and 2nd to 3rd column\n",
    "\n",
    "print(a2[::2, ::3], \"\\n\") # using steps\n",
    "\n",
    "print(a2[::2, 1::2]) # (::2 -> 1st row to last row with step of 2), (1::2 -> 2nd col to last col with step of 2)"
   ]
  },
  {
   "cell_type": "code",
   "execution_count": 119,
   "metadata": {},
   "outputs": [
    {
     "name": "stdout",
     "output_type": "stream",
     "text": [
      "3D Matrix\n",
      " [[[ 0  1  2]\n",
      "  [ 3  4  5]\n",
      "  [ 6  7  8]]\n",
      "\n",
      " [[ 9 10 11]\n",
      "  [12 13 14]\n",
      "  [15 16 17]]\n",
      "\n",
      " [[18 19 20]\n",
      "  [21 22 23]\n",
      "  [24 25 26]]] \n",
      "\n",
      "Answer 1\n",
      " [[ 9 10 11]\n",
      " [12 13 14]\n",
      " [15 16 17]]\n",
      "Answer 2\n",
      " [[[ 0  1  2]\n",
      "  [ 3  4  5]\n",
      "  [ 6  7  8]]\n",
      "\n",
      " [[18 19 20]\n",
      "  [21 22 23]\n",
      "  [24 25 26]]]\n",
      "Answer 3\n",
      " [1 4 7]\n",
      "Answer 4\n",
      " [12 13 14]\n",
      "Answer 5\n",
      " [[22 23]\n",
      " [25 26]]\n",
      "Answer 6\n",
      " [[ 0  2]\n",
      " [18 20]]\n"
     ]
    }
   ],
   "source": [
    "print(\"3D Matrix\\n\",a3, \"\\n\")\n",
    "\n",
    "print(\"Answer 1\\n\", a3[1]) # gives 2nd 2D array\n",
    "\n",
    "print(\"Answer 2\\n\", a3[::2]) # 1st to last 2D array with step of 2\n",
    "\n",
    "print(\"Answer 3\\n\", a3[0, :, 1]) # 1st 2d array's, all rows of 2nd column(i.e 2nd col of 1st 2D array) \n",
    "\n",
    "print(\"Answer 4\\n\", a3[1, 1, :]) # 2nd row of 2nd 2D array\n",
    "\n",
    "print(\"Answer 5\\n\", a3[2, 1:, 1:]) # [[22,23],[25,26]]\n",
    "\n",
    "print(\"Answer 6\\n\", a3[::2, 0, ::2]) # [[0,2],[18,20]]"
   ]
  },
  {
   "cell_type": "markdown",
   "metadata": {},
   "source": [
    "#### Iterating ####"
   ]
  },
  {
   "cell_type": "code",
   "execution_count": 121,
   "metadata": {},
   "outputs": [
    {
     "name": "stdout",
     "output_type": "stream",
     "text": [
      "0\n",
      "1\n",
      "2\n",
      "3\n",
      "4\n",
      "5\n",
      "6\n",
      "7\n",
      "8\n",
      "9\n"
     ]
    }
   ],
   "source": [
    "for i in a1:\n",
    "    print(i) # prints each item"
   ]
  },
  {
   "cell_type": "code",
   "execution_count": 122,
   "metadata": {},
   "outputs": [
    {
     "name": "stdout",
     "output_type": "stream",
     "text": [
      "[0. 1. 2. 3.]\n",
      "[4. 5. 6. 7.]\n",
      "[ 8.  9. 10. 11.]\n"
     ]
    }
   ],
   "source": [
    "for i in a2: # prints each row\n",
    "    print(i)"
   ]
  },
  {
   "cell_type": "code",
   "execution_count": 123,
   "metadata": {},
   "outputs": [
    {
     "name": "stdout",
     "output_type": "stream",
     "text": [
      "[[0 1 2]\n",
      " [3 4 5]\n",
      " [6 7 8]]\n",
      "[[ 9 10 11]\n",
      " [12 13 14]\n",
      " [15 16 17]]\n",
      "[[18 19 20]\n",
      " [21 22 23]\n",
      " [24 25 26]]\n"
     ]
    }
   ],
   "source": [
    "for i in a3: # prints each 2d array\n",
    "    print(i)"
   ]
  },
  {
   "cell_type": "code",
   "execution_count": 128,
   "metadata": {},
   "outputs": [
    {
     "name": "stdout",
     "output_type": "stream",
     "text": [
      "for a2\n",
      "0.0 1.0 2.0 3.0 4.0 5.0 6.0 7.0 8.0 9.0 10.0 11.0 \n",
      "for a3\n",
      "0 1 2 3 4 5 6 7 8 9 10 11 12 13 14 15 16 17 18 19 20 21 22 23 24 25 26 "
     ]
    }
   ],
   "source": [
    "# np.nditer() -> to iter on enery item in multidimensional array\n",
    "print(\"for a2\")\n",
    "\n",
    "for i in np.nditer(a2):\n",
    "    print(i, end=\" \")\n",
    "\n",
    "print(\"\\nfor a3\")\n",
    "\n",
    "for i in np.nditer(a3):\n",
    "    print(i, end=\" \")"
   ]
  },
  {
   "cell_type": "markdown",
   "metadata": {},
   "source": [
    "#### Reshaping ####"
   ]
  },
  {
   "cell_type": "code",
   "execution_count": 131,
   "metadata": {},
   "outputs": [
    {
     "name": "stdout",
     "output_type": "stream",
     "text": [
      "[[ 0.  4.  8.]\n",
      " [ 1.  5.  9.]\n",
      " [ 2.  6. 10.]\n",
      " [ 3.  7. 11.]]\n",
      "[[ 0.  4.  8.]\n",
      " [ 1.  5.  9.]\n",
      " [ 2.  6. 10.]\n",
      " [ 3.  7. 11.]]\n"
     ]
    }
   ],
   "source": [
    "# transpose(do not change the original array creates new)\n",
    "print(np.transpose(a2))\n",
    "# OR\n",
    "print(a2.T)"
   ]
  },
  {
   "cell_type": "code",
   "execution_count": 132,
   "metadata": {},
   "outputs": [
    {
     "name": "stdout",
     "output_type": "stream",
     "text": [
      "[ 0.  1.  2.  3.  4.  5.  6.  7.  8.  9. 10. 11.]\n",
      "[ 0  1  2  3  4  5  6  7  8  9 10 11 12 13 14 15 16 17 18 19 20 21 22 23\n",
      " 24 25 26]\n"
     ]
    }
   ],
   "source": [
    "# ravel -> converts n dimensional array to 1D array(do not change the original array creates new)\n",
    "print(a2.ravel())\n",
    "print(a3.ravel())"
   ]
  },
  {
   "cell_type": "markdown",
   "metadata": {},
   "source": [
    "#### Stacking ####"
   ]
  },
  {
   "cell_type": "code",
   "execution_count": 135,
   "metadata": {},
   "outputs": [
    {
     "data": {
      "text/plain": [
       "array([[ 0,  1,  2,  3, 12, 13, 14, 15,  0,  1,  2,  3],\n",
       "       [ 4,  5,  6,  7, 16, 17, 18, 19,  4,  5,  6,  7],\n",
       "       [ 8,  9, 10, 11, 20, 21, 22, 23,  8,  9, 10, 11]])"
      ]
     },
     "execution_count": 135,
     "metadata": {},
     "output_type": "execute_result"
    }
   ],
   "source": [
    "# horizontal stacking\n",
    "# [2x2] [2x2] [2x2]-> [2x6]\n",
    "\n",
    "a4 = np.arange(12).reshape(3,4)\n",
    "a5 = np.arange(12, 24).reshape(3,4)\n",
    "\n",
    "np.hstack((a4,a5,a4))"
   ]
  },
  {
   "cell_type": "code",
   "execution_count": 136,
   "metadata": {},
   "outputs": [
    {
     "data": {
      "text/plain": [
       "array([[ 0,  1,  2,  3],\n",
       "       [ 4,  5,  6,  7],\n",
       "       [ 8,  9, 10, 11],\n",
       "       [12, 13, 14, 15],\n",
       "       [16, 17, 18, 19],\n",
       "       [20, 21, 22, 23]])"
      ]
     },
     "execution_count": 136,
     "metadata": {},
     "output_type": "execute_result"
    }
   ],
   "source": [
    "# vertical stacking\n",
    "# [2x2] [2x2] [2x2] -> [6x2]\n",
    "\n",
    "np.vstack((a4,a5))\n",
    "\n",
    "# shape of all the array should be same for stacking"
   ]
  },
  {
   "cell_type": "markdown",
   "metadata": {},
   "source": [
    "#### Splitting ####"
   ]
  },
  {
   "cell_type": "code",
   "execution_count": 137,
   "metadata": {},
   "outputs": [
    {
     "data": {
      "text/plain": [
       "[array([[0, 1],\n",
       "        [4, 5],\n",
       "        [8, 9]]),\n",
       " array([[ 2,  3],\n",
       "        [ 6,  7],\n",
       "        [10, 11]])]"
      ]
     },
     "execution_count": 137,
     "metadata": {},
     "output_type": "execute_result"
    }
   ],
   "source": [
    "# horizontal split\n",
    "# [2x4] -> [2x2] [2x2]\n",
    "\n",
    "np.hsplit(a4,2)"
   ]
  },
  {
   "cell_type": "code",
   "execution_count": 140,
   "metadata": {},
   "outputs": [
    {
     "data": {
      "text/plain": [
       "[array([[0, 1, 2, 3]]), array([[4, 5, 6, 7]]), array([[ 8,  9, 10, 11]])]"
      ]
     },
     "execution_count": 140,
     "metadata": {},
     "output_type": "execute_result"
    }
   ],
   "source": [
    "np.vsplit(a4,3)"
   ]
  },
  {
   "cell_type": "markdown",
   "metadata": {},
   "source": [
    "### Advanced Numpy ###\n",
    "#### Numpy array vs python list ####"
   ]
  },
  {
   "cell_type": "code",
   "execution_count": 141,
   "metadata": {},
   "outputs": [
    {
     "name": "stdout",
     "output_type": "stream",
     "text": [
      "3.0330092906951904\n"
     ]
    }
   ],
   "source": [
    "# speed test\n",
    "# python list\n",
    "import time\n",
    "\n",
    "a = [i for i in range(10000000)] # list with int from 0 to 1cr\n",
    "b = [i for i in range(10000000,20000000)] # list with int from 1cr to 2cr\n",
    "c = []\n",
    "start = time.time()\n",
    "for i in range(len(a)):\n",
    "    c.append(a[i] + b[i])\n",
    "print(time.time() - start)\n",
    "\n",
    "# python lists are dynamic and referential"
   ]
  },
  {
   "cell_type": "code",
   "execution_count": 2,
   "metadata": {},
   "outputs": [
    {
     "name": "stdout",
     "output_type": "stream",
     "text": [
      "0.019987106323242188\n"
     ]
    }
   ],
   "source": [
    "# Numpy array\n",
    "import numpy as np\n",
    "import time\n",
    "\n",
    "a = np.arange(10000000) # np array with int from 0 to 1cr\n",
    "b = np.arange(10000000,20000000) # np array with int from 1cr to 2cr\n",
    "\n",
    "start = time.time()\n",
    "c = a + b\n",
    "print(time.time() - start)\n",
    "\n",
    "# numpy array is static(fixed size) and non referential(item is directly stored in memory not its address)"
   ]
  },
  {
   "cell_type": "code",
   "execution_count": 3,
   "metadata": {},
   "outputs": [
    {
     "name": "stdout",
     "output_type": "stream",
     "text": [
      "89095160\n",
      "80000112\n",
      "40000112\n",
      "20000112\n"
     ]
    }
   ],
   "source": [
    "# memory test\n",
    "import sys\n",
    "\n",
    "a = [i for i in range(10000000)]\n",
    "b = np.arange(10000000, dtype=np.int64)\n",
    "c = np.arange(10000000, dtype=np.int32)\n",
    "d = np.arange(10000000, dtype=np.int16)\n",
    "\n",
    "print(sys.getsizeof(a))\n",
    "print(sys.getsizeof(b))\n",
    "print(sys.getsizeof(c))\n",
    "print(sys.getsizeof(d))\n"
   ]
  },
  {
   "cell_type": "code",
   "execution_count": 10,
   "metadata": {},
   "outputs": [
    {
     "name": "stdout",
     "output_type": "stream",
     "text": [
      "[[52 95  4 29]\n",
      " [87 80 19 43]\n",
      " [70 29 96 73]\n",
      " [ 1  5 18 79]\n",
      " [17 85 87 52]\n",
      " [79 15 82 27]]\n",
      "Answer 1\n",
      " [[52 95  4 29]\n",
      " [70 29 96 73]\n",
      " [ 1  5 18 79]\n",
      " [79 15 82 27]]\n",
      "Answer 2\n",
      " [[52  4 29]\n",
      " [87 19 43]\n",
      " [70 96 73]\n",
      " [ 1 18 79]\n",
      " [17 87 52]\n",
      " [79 82 27]]\n"
     ]
    }
   ],
   "source": [
    "# Fancy indexing -> a[[list of row index], [list of colun index]]\n",
    "a = np.random.randint(1, 100, 24).reshape(6,4)\n",
    "print(a)\n",
    "\n",
    "# obtain 1st, 3rd, 4th, 6th row\n",
    "print(\"Answer 1\\n\", a[[0,2,3, 5]]) # give a list with index of rows you want\n",
    "\n",
    "# obtain 1st, 3rd, 4th columns\n",
    "print(\"Answer 2\\n\", a[:, [0,2,3]]) # all rows of 1st, 3rd, 4th column"
   ]
  },
  {
   "cell_type": "code",
   "execution_count": 16,
   "metadata": {},
   "outputs": [
    {
     "name": "stdout",
     "output_type": "stream",
     "text": [
      "[[52 95  4 29]\n",
      " [87 80 19 43]\n",
      " [70 29 96 73]\n",
      " [ 1  5 18 79]\n",
      " [17 85 87 52]\n",
      " [79 15 82 27]]\n",
      "[[ True  True False False]\n",
      " [ True  True False False]\n",
      " [ True False  True  True]\n",
      " [False False False  True]\n",
      " [False  True  True  True]\n",
      " [ True False  True False]]\n",
      "Answer 1\n",
      " [52 95 87 80 70 96 73 79 85 87 52 79 82]\n",
      "Answer 2\n",
      " [52  4 80 70 96 18 52 82]\n",
      "Answer 3\n",
      " [52 80 70 96 52 82]\n"
     ]
    }
   ],
   "source": [
    "# boolean indexing\n",
    "print(a)\n",
    "\n",
    "# find all numbers greater than 50\n",
    "print(a > 50) # you can use this boolean array as a mask to filter all the true value in a\n",
    "\n",
    "print(\"Answer 1\\n\", a[a > 50])\n",
    "\n",
    "# find even numbers in a\n",
    "print(\"Answer 2\\n\", a[a % 2 == 0])\n",
    "\n",
    "# find all no. greater than 50 and even \n",
    "print(\"Answer 3\\n\", a[(a > 50) & (a % 2 == 0)])"
   ]
  },
  {
   "cell_type": "markdown",
   "metadata": {},
   "source": [
    "#### Broadcasting ####\n",
    "- The term broadcasting describes how NumPy treats different shapes during arithmetic operations.\n",
    "- The smaller array is \"broadcast\" across the larger array so that they have compatible shapes."
   ]
  },
  {
   "cell_type": "code",
   "execution_count": 20,
   "metadata": {},
   "outputs": [
    {
     "name": "stdout",
     "output_type": "stream",
     "text": [
      "a\n",
      " [[0 1 2]\n",
      " [3 4 5]]\n",
      "b\n",
      " [[ 6  7  8]\n",
      " [ 9 10 11]]\n",
      "a+b\n",
      " [[ 6  8 10]\n",
      " [12 14 16]]\n"
     ]
    }
   ],
   "source": [
    "# what is the need of broadcasting in numpy?\n",
    "# same shape\n",
    "a = np.arange(6).reshape(2,3)\n",
    "b = np.arange(6,12).reshape(2,3)\n",
    "\n",
    "print(\"a\\n\", a)\n",
    "print(\"b\\n\", b)\n",
    "\n",
    "print(\"a+b\\n\", a + b)"
   ]
  },
  {
   "cell_type": "code",
   "execution_count": 19,
   "metadata": {},
   "outputs": [
    {
     "name": "stdout",
     "output_type": "stream",
     "text": [
      "a\n",
      " [[0 1 2]\n",
      " [3 4 5]]\n",
      "b\n",
      " [[0 1 2]]\n",
      "a+b\n",
      " [[0 2 4]\n",
      " [3 5 7]]\n"
     ]
    }
   ],
   "source": [
    "# different shape\n",
    "\n",
    "a = np.arange(6).reshape(2,3)\n",
    "b = np.arange(3).reshape(1,3)\n",
    "\n",
    "print(\"a\\n\", a)\n",
    "print(\"b\\n\", b)\n",
    "\n",
    "print(\"a+b\\n\", a + b) # this also works because of broadcasting"
   ]
  },
  {
   "attachments": {
    "NumPy_Broadcasting.png": {
     "image/png": "[encoded data removed]"
    }
   },
   "cell_type": "markdown",
   "metadata": {},
   "source": [
    "##### Broadcasting Rules #####\n",
    "1) **Mark the two arrays have the same number of dimensions.**\n",
    "    - If the number of dimensions of the arrays are different, add new dimensions with size 1 to the headof array with the smaller dimension.\n",
    "    - Example\n",
    "        - (4,3) and (3) -> add 1 to head of smaller -> (4,3) and (1,3)\n",
    "        - (3,3,3) and (3) -> add 1 to head of smaller -> (3,3,3) and (1,1,3)\n",
    "        \n",
    "2) **make each dimension of two arrays the same size.**\n",
    "    - If the sizes of each dimension of the two arrays do not match, dimensions with size 1 are streached to the size of the other array.\n",
    "     - Example\n",
    "        - (4,3) and (1,3) -> dimension with size 1 is streached to size of other -> (4,3) and (3,3)\n",
    "        - (3,3,3) and (1,1,3) -> dimension with size 1 is streached to size of other -> (3,3,3) and (3,3,3)\n",
    "    - If there is a dimension whose size is not 1 in eithe of the two arrays, it cannot be broadcasted, and an error is raised.\n",
    "\n",
    "    ![NumPy_Broadcasting.png](attachment:NumPy_Broadcasting.png)"
   ]
  },
  {
   "cell_type": "code",
   "execution_count": 22,
   "metadata": {},
   "outputs": [
    {
     "name": "stdout",
     "output_type": "stream",
     "text": [
      "a\n",
      " [[ 0  1  2]\n",
      " [ 3  4  5]\n",
      " [ 6  7  8]\n",
      " [ 9 10 11]]\n",
      "b\n",
      " [0 1 2]\n",
      "a+b\n",
      " [[ 0  2  4]\n",
      " [ 3  5  7]\n",
      " [ 6  8 10]\n",
      " [ 9 11 13]]\n"
     ]
    }
   ],
   "source": [
    "# Examples\n",
    "a = np.arange(12).reshape(4,3)\n",
    "b = np.arange(3)\n",
    "\n",
    "print(\"a\\n\", a)\n",
    "print(\"b\\n\", b)\n",
    "\n",
    "print(\"a+b\\n\", a+b)"
   ]
  },
  {
   "cell_type": "code",
   "execution_count": 24,
   "metadata": {},
   "outputs": [
    {
     "name": "stdout",
     "output_type": "stream",
     "text": [
      "a\n",
      " [[ 0  1  2  3]\n",
      " [ 4  5  6  7]\n",
      " [ 8  9 10 11]]\n",
      "b\n",
      " [0 1 2]\n"
     ]
    },
    {
     "ename": "ValueError",
     "evalue": "operands could not be broadcast together with shapes (3,4) (3,) ",
     "output_type": "error",
     "traceback": [
      "\u001b[1;31m---------------------------------------------------------------------------\u001b[0m",
      "\u001b[1;31mValueError\u001b[0m                                Traceback (most recent call last)",
      "Cell \u001b[1;32mIn[24], line 7\u001b[0m\n\u001b[0;32m      4\u001b[0m \u001b[38;5;28mprint\u001b[39m(\u001b[38;5;124m\"\u001b[39m\u001b[38;5;124ma\u001b[39m\u001b[38;5;130;01m\\n\u001b[39;00m\u001b[38;5;124m\"\u001b[39m, a)\n\u001b[0;32m      5\u001b[0m \u001b[38;5;28mprint\u001b[39m(\u001b[38;5;124m\"\u001b[39m\u001b[38;5;124mb\u001b[39m\u001b[38;5;130;01m\\n\u001b[39;00m\u001b[38;5;124m\"\u001b[39m, b)\n\u001b[1;32m----> 7\u001b[0m \u001b[38;5;28mprint\u001b[39m(\u001b[38;5;124m\"\u001b[39m\u001b[38;5;124ma+b\u001b[39m\u001b[38;5;130;01m\\n\u001b[39;00m\u001b[38;5;124m\"\u001b[39m, \u001b[43ma\u001b[49m\u001b[38;5;241;43m+\u001b[39;49m\u001b[43mb\u001b[49m)\n",
      "\u001b[1;31mValueError\u001b[0m: operands could not be broadcast together with shapes (3,4) (3,) "
     ]
    }
   ],
   "source": [
    "a = np.arange(12).reshape(3,4)\n",
    "b = np.arange(3)\n",
    "\n",
    "print(\"a\\n\", a)\n",
    "print(\"b\\n\", b)\n",
    "\n",
    "# print(\"a+b\\n\", a+b) # this gives error"
   ]
  },
  {
   "cell_type": "code",
   "execution_count": 25,
   "metadata": {},
   "outputs": [
    {
     "name": "stdout",
     "output_type": "stream",
     "text": [
      "a\n",
      " [[0 1 2]]\n",
      "b\n",
      " [[0]\n",
      " [1]\n",
      " [2]]\n",
      "a+b\n",
      " [[0 1 2]\n",
      " [1 2 3]\n",
      " [2 3 4]]\n"
     ]
    }
   ],
   "source": [
    "a = np.arange(3).reshape(1,3)\n",
    "b = np.arange(3).reshape(3,1)\n",
    "\n",
    "print(\"a\\n\", a)\n",
    "print(\"b\\n\", b)\n",
    "\n",
    "print(\"a+b\\n\", a+b)"
   ]
  },
  {
   "cell_type": "code",
   "execution_count": 26,
   "metadata": {},
   "outputs": [
    {
     "name": "stdout",
     "output_type": "stream",
     "text": [
      "a\n",
      " [[0 1 2]]\n",
      "b\n",
      " [[0]\n",
      " [1]\n",
      " [2]\n",
      " [3]]\n",
      "a+b\n",
      " [[0 1 2]\n",
      " [1 2 3]\n",
      " [2 3 4]\n",
      " [3 4 5]]\n"
     ]
    }
   ],
   "source": [
    "a = np.arange(3).reshape(1,3)\n",
    "b = np.arange(4).reshape(4,1)\n",
    "\n",
    "print(\"a\\n\", a)\n",
    "print(\"b\\n\", b)\n",
    "\n",
    "print(\"a+b\\n\", a+b)"
   ]
  },
  {
   "cell_type": "code",
   "execution_count": 28,
   "metadata": {},
   "outputs": [
    {
     "name": "stdout",
     "output_type": "stream",
     "text": [
      "a\n",
      " [[ 0  1  2]\n",
      " [ 3  4  5]\n",
      " [ 6  7  8]\n",
      " [ 9 10 11]]\n",
      "b\n",
      " [[ 0  1  2  3]\n",
      " [ 4  5  6  7]\n",
      " [ 8  9 10 11]]\n"
     ]
    }
   ],
   "source": [
    "a = np.arange(12).reshape(4,3)\n",
    "b = np.arange(12).reshape(3,4)\n",
    "\n",
    "print(\"a\\n\", a)\n",
    "print(\"b\\n\", b)\n",
    "\n",
    "# print(\"a+b\\n\", a+b) # gives error\n",
    "\n",
    "# dimension is same -> no changes\n",
    "# there is no 1 in any array to stretch"
   ]
  },
  {
   "cell_type": "code",
   "execution_count": 30,
   "metadata": {},
   "outputs": [
    {
     "name": "stdout",
     "output_type": "stream",
     "text": [
      "a\n",
      " [[ 0  1  2  3]\n",
      " [ 4  5  6  7]\n",
      " [ 8  9 10 11]\n",
      " [12 13 14 15]]\n",
      "b\n",
      " [[0 1]\n",
      " [2 3]]\n"
     ]
    }
   ],
   "source": [
    "a = np.arange(16).reshape(4,4)\n",
    "b = np.arange(4).reshape(2,2)\n",
    "\n",
    "print(\"a\\n\", a)\n",
    "print(\"b\\n\", b)\n",
    "\n",
    "# print(\"a+b\\n\", a+b) # gives error\n",
    "\n",
    "# dimension is same -> no changes\n",
    "# there is no 1 in any array to stretch"
   ]
  },
  {
   "cell_type": "markdown",
   "metadata": {},
   "source": [
    "#### Working with mathematical formulas ####"
   ]
  },
  {
   "cell_type": "code",
   "execution_count": 36,
   "metadata": {},
   "outputs": [
    {
     "name": "stdout",
     "output_type": "stream",
     "text": [
      "a\n",
      " [0 1 2 3 4 5 6 7 8 9]\n",
      "sigmoid(a)\n",
      " [0.5        0.73105858 0.88079708 0.95257413 0.98201379 0.99330715\n",
      " 0.99752738 0.99908895 0.99966465 0.99987661]\n"
     ]
    }
   ],
   "source": [
    "# creating custom math functions\n",
    "# sigmoid\n",
    "def sigmoid(array):\n",
    "    return 1/(1 + np.exp(-(array)))\n",
    "\n",
    "a = np.arange(10)\n",
    "print(\"a\\n\", a)\n",
    "print(\"sigmoid(a)\\n\", sigmoid(a))"
   ]
  },
  {
   "cell_type": "code",
   "execution_count": 37,
   "metadata": {},
   "outputs": [
    {
     "data": {
      "text/plain": [
       "355.92"
      ]
     },
     "execution_count": 37,
     "metadata": {},
     "output_type": "execute_result"
    }
   ],
   "source": [
    "# mean squared error -> loss function used in linear regression\n",
    "\n",
    "def mean_squared_error(actual, predicted):\n",
    "    return np.mean((actual - predicted)**2)\n",
    "\n",
    "actual_data = np.random.randint(1,50,25)\n",
    "predicted_data = np.random.randint(1,50,25)\n",
    "\n",
    "mean_squared_error(actual_data, predicted_data)"
   ]
  },
  {
   "cell_type": "markdown",
   "metadata": {},
   "source": [
    "#### Working with missing values ####"
   ]
  },
  {
   "cell_type": "code",
   "execution_count": 42,
   "metadata": {},
   "outputs": [
    {
     "name": "stdout",
     "output_type": "stream",
     "text": [
      "[ 1.  2.  3.  4. nan  6.  7. nan]\n",
      "[False False False False  True False False  True]\n",
      "[1. 2. 3. 4. 6. 7.]\n"
     ]
    }
   ],
   "source": [
    "# np.nan\n",
    "\n",
    "a = np.array([1,2,3,4,np.nan,6,7, np.nan])\n",
    "print(a)\n",
    "\n",
    "# remove missing values\n",
    "print(np.isnan(a))\n",
    "\n",
    "print(a[~(np.isnan(a))]) # ~ -> not"
   ]
  },
  {
   "cell_type": "markdown",
   "metadata": {},
   "source": [
    "#### Plotting Graphs ####"
   ]
  },
  {
   "cell_type": "code",
   "execution_count": 44,
   "metadata": {},
   "outputs": [
    {
     "data": {
      "text/plain": [
       "[<matplotlib.lines.Line2D at 0x1fa81d47520>]"
      ]
     },
     "execution_count": 44,
     "metadata": {},
     "output_type": "execute_result"
    },
    {
     "data": {
      "image/png": "[encoded data removed]",
      "text/plain": [
       "<Figure size 640x480 with 1 Axes>"
      ]
     },
     "metadata": {},
     "output_type": "display_data"
    }
   ],
   "source": [
    "import matplotlib.pyplot as plt\n",
    "\n",
    "x = np.linspace(-10, 10, 100)\n",
    "y = x\n",
    "\n",
    "plt.plot(x, y)"
   ]
  },
  {
   "cell_type": "code",
   "execution_count": 47,
   "metadata": {},
   "outputs": [
    {
     "data": {
      "text/plain": [
       "[<matplotlib.lines.Line2D at 0x1fa8406e2c0>]"
      ]
     },
     "execution_count": 47,
     "metadata": {},
     "output_type": "execute_result"
    },
    {
     "data": {
      "image/png": "[encoded data removed]",
      "text/plain": [
       "<Figure size 640x480 with 1 Axes>"
      ]
     },
     "metadata": {},
     "output_type": "display_data"
    }
   ],
   "source": [
    "y = x**2\n",
    "\n",
    "plt.plot(x, y)"
   ]
  },
  {
   "cell_type": "code",
   "execution_count": 48,
   "metadata": {},
   "outputs": [
    {
     "data": {
      "text/plain": [
       "[<matplotlib.lines.Line2D at 0x1fa84101ed0>]"
      ]
     },
     "execution_count": 48,
     "metadata": {},
     "output_type": "execute_result"
    },
    {
     "data": {
      "image/png": "[encoded data removed]",
      "text/plain": [
       "<Figure size 640x480 with 1 Axes>"
      ]
     },
     "metadata": {},
     "output_type": "display_data"
    }
   ],
   "source": [
    "y = sigmoid(x)\n",
    "\n",
    "plt.plot(x, y)"
   ]
  }
 ],
 "metadata": {
  "kernelspec": {
   "display_name": ".ml_algo_py_venv",
   "language": "python",
   "name": "python3"
  },
  "language_info": {
   "codemirror_mode": {
    "name": "ipython",
    "version": 3
   },
   "file_extension": ".py",
   "mimetype": "text/x-python",
   "name": "python",
   "nbconvert_exporter": "python",
   "pygments_lexer": "ipython3",
   "version": "3.10.7"
  }
 },
 "nbformat": 4,
 "nbformat_minor": 2
}
